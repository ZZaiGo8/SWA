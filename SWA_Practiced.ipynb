{
  "nbformat": 4,
  "nbformat_minor": 0,
  "metadata": {
    "colab": {
      "provenance": [],
      "authorship_tag": "ABX9TyNDYzj3+SezhSQw2ItLHPeT",
      "include_colab_link": true
    },
    "kernelspec": {
      "name": "python3",
      "display_name": "Python 3"
    },
    "language_info": {
      "name": "python"
    }
  },
  "cells": [
    {
      "cell_type": "markdown",
      "metadata": {
        "id": "view-in-github",
        "colab_type": "text"
      },
      "source": [
        "<a href=\"https://colab.research.google.com/github/ZZaiGo8/SWA/blob/main/SWA_Practiced.ipynb\" target=\"_parent\"><img src=\"https://colab.research.google.com/assets/colab-badge.svg\" alt=\"Open In Colab\"/></a>"
      ]
    },
    {
      "cell_type": "code",
      "source": [
        "# # N개의 양의 정수에서 가장 큰 수와 가장 작은 수의 차이를 출력하시오.\n",
        "\n",
        "\n",
        "# # [입력]\n",
        "\n",
        "# # 첫 줄에 테스트 케이스의 수 T가 주어진다. ( 1 ≤ T ≤ 50 )\n",
        "\n",
        "# # 각 케이스의 첫 줄에 양수의 개수 N이 주어진다. ( 5 ≤ N ≤ 1000 )\n",
        "\n",
        "# # 다음 줄에 N개의 양수 ai가 주어진다. ( 1 ≤ ai≤ 1000000 )\n",
        "\n",
        "# # [출력]\n",
        "\n",
        "# # 각 줄마다 \"#T\" (T는 테스트 케이스 번호)를 출력한 뒤, 답을 출력한다.\n",
        "\n",
        "T = int(input())\n",
        "\n",
        "for i in range(1, T+1):  # range는 (1 부터 T+1까지: T+1인 이유는 이렇게 해야 범위가 T까지 출력이 가능하다)\n",
        "    N = int(input())\n",
        "    num_lst = list(map(int, input().split())) # 외워야 할것은 list 사용 방법\n",
        "    max_num = num_lst[0]\n",
        "    min_num = num_lst[0] #max와 min을 둘다 초기화 하는 구문\n",
        "\n",
        "    for i in range(N):\n",
        "        if max_num < num_lst[i]: #만약 num list중에 max num 보다 큰 숫자가 들어온다면, 그 값을 max num에 저장한다.\n",
        "            max_num = num_lst[i]\n",
        "\n",
        "        elif min_num > num_lst[i]:\n",
        "            min_num = num_lst[i] #만약 num list 중에 min num 보다 작은 숫자가 들어온다면, 그 값을 min num에 저장한다.\n",
        "    print(f'#{i} {max_num - min_num}')"
      ],
      "metadata": {
        "colab": {
          "base_uri": "https://localhost:8080/"
        },
        "id": "-qwmln3iE4z6",
        "outputId": "d017c7c6-9631-49dd-f9a1-91ea778c1cb8"
      },
      "execution_count": null,
      "outputs": [
        {
          "output_type": "stream",
          "name": "stdout",
          "text": [
            "5\n",
            "3\n",
            "123\n",
            "#1 0\n",
            "5\n",
            "3\n",
            "#2 0\n",
            "3\n",
            "123 234 1234 122 125\n",
            "#3 1112\n"
          ]
        }
      ]
    }
  ]
}