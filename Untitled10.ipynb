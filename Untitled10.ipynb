{
  "cells": [
    {
      "cell_type": "markdown",
      "metadata": {
        "id": "view-in-github",
        "colab_type": "text"
      },
      "source": [
        "<a href=\"https://colab.research.google.com/github/ZZaiGo8/SWA/blob/main/Untitled10.ipynb\" target=\"_parent\"><img src=\"https://colab.research.google.com/assets/colab-badge.svg\" alt=\"Open In Colab\"/></a>"
      ]
    },
    {
      "cell_type": "code",
      "execution_count": null,
      "metadata": {
        "colab": {
          "base_uri": "https://localhost:8080/"
        },
        "id": "zxKkuXEeThCX",
        "outputId": "52ba272d-01cc-4743-b9bf-29c623a63862"
      },
      "outputs": [
        {
          "name": "stdout",
          "output_type": "stream",
          "text": [
            "3\n",
            "3 10 5\n",
            "1 3 5 7 9\n"
          ]
        }
      ],
      "source": [
        "TC = int(input())\n",
        "\n",
        "for i in range(1, TC+1):\n",
        "    count = 0\n",
        "    K,N,M = map(int, input().split())\n",
        "    stations = list(map(int, input().split()))\n",
        "\n",
        "    now = 0\n",
        "    charge_station = 0\n",
        "    count = 0\n",
        "    can_go = now + K\n",
        "\n",
        "    while(can_go<K):\n",
        "      for i in stations:\n",
        "        if now < i <= can_go:\n",
        "          charge_station = i\n",
        "        elif can_go < i:\n",
        "          break\n",
        "\n",
        "      if charge_station == -1:\n",
        "        count = 0\n",
        "        break\n",
        "\n",
        "now = charge_station\n",
        "can_go = now + K\n",
        "count += 1\n",
        "charge_station = -1\n",
        "\n",
        "print(f'#{i} {count}')\n",
        "\n"
      ]
    }
  ],
  "metadata": {
    "colab": {
      "provenance": [],
      "authorship_tag": "ABX9TyNVgzeb7xxYqdVuY75Ex7r6",
      "include_colab_link": true
    },
    "kernelspec": {
      "display_name": "Python 3",
      "name": "python3"
    },
    "language_info": {
      "name": "python"
    }
  },
  "nbformat": 4,
  "nbformat_minor": 0
}