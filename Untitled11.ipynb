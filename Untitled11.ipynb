{
  "nbformat": 4,
  "nbformat_minor": 0,
  "metadata": {
    "colab": {
      "provenance": [],
      "authorship_tag": "ABX9TyM2zs9HNs5RWH+Mutfy0qXD",
      "include_colab_link": true
    },
    "kernelspec": {
      "name": "python3",
      "display_name": "Python 3"
    },
    "language_info": {
      "name": "python"
    }
  },
  "cells": [
    {
      "cell_type": "markdown",
      "metadata": {
        "id": "view-in-github",
        "colab_type": "text"
      },
      "source": [
        "<a href=\"https://colab.research.google.com/github/ZZaiGo8/SWA/blob/main/Untitled11.ipynb\" target=\"_parent\"><img src=\"https://colab.research.google.com/assets/colab-badge.svg\" alt=\"Open In Colab\"/></a>"
      ]
    },
    {
      "cell_type": "code",
      "execution_count": null,
      "metadata": {
        "id": "SXYK48X2suil"
      },
      "outputs": [],
      "source": [
        "TC=int(input())\n",
        "\n",
        "for i in range(1,TC+1):\n",
        "    N,M=map(int,input().split()) #N은 정수의 list\n",
        "    N_list=list(map(int,input().split()))\n",
        "    New_list=[]\n",
        "    for j in range(N-M+1): #N-M+1 범위만큼\n",
        "        result=0\n",
        "        for k in range(j,j+M): #연속적인 수 즉 j부터 j+숫자 범위까지 더하는 result값을 구한다.\n",
        "            result+=N_list[k]\n",
        "        New_list.append(result) #append는 list 배열에 추가하는 것을 의미한다.\n",
        "    print('f#{TC]{max(New_list)-min(New_list)}')\n",
        "\n",
        "\n",
        "\n",
        "\n",
        ""
      ]
    }
  ]
}